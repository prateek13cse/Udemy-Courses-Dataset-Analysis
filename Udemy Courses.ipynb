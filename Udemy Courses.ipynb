{
 "cells": [
  {
   "cell_type": "markdown",
   "id": "9e80574f-3b39-404f-816e-98d1fa4c85ec",
   "metadata": {},
   "source": [
    "# Data Analaysis of Udemy Courses."
   ]
  },
  {
   "cell_type": "code",
   "execution_count": 1,
   "id": "dc756991-a68c-494b-9001-4b3883a392f2",
   "metadata": {},
   "outputs": [],
   "source": [
    "import numpy as np\n",
    "import pandas as pd\n",
    "import matplotlib.pyplot as plt\n",
    "import seaborn as sns"
   ]
  },
  {
   "cell_type": "code",
   "execution_count": 4,
   "id": "0bac4822-8b20-4b2c-a2f3-e14273bd9bec",
   "metadata": {},
   "outputs": [
    {
     "data": {
      "text/html": [
       "<div>\n",
       "<style scoped>\n",
       "    .dataframe tbody tr th:only-of-type {\n",
       "        vertical-align: middle;\n",
       "    }\n",
       "\n",
       "    .dataframe tbody tr th {\n",
       "        vertical-align: top;\n",
       "    }\n",
       "\n",
       "    .dataframe thead th {\n",
       "        text-align: right;\n",
       "    }\n",
       "</style>\n",
       "<table border=\"1\" class=\"dataframe\">\n",
       "  <thead>\n",
       "    <tr style=\"text-align: right;\">\n",
       "      <th></th>\n",
       "      <th>course_id</th>\n",
       "      <th>course_title</th>\n",
       "      <th>url</th>\n",
       "      <th>is_paid</th>\n",
       "      <th>price</th>\n",
       "      <th>num_subscribers</th>\n",
       "      <th>num_reviews</th>\n",
       "      <th>num_lectures</th>\n",
       "      <th>level</th>\n",
       "      <th>content_duration</th>\n",
       "      <th>published_timestamp</th>\n",
       "      <th>subject</th>\n",
       "    </tr>\n",
       "  </thead>\n",
       "  <tbody>\n",
       "    <tr>\n",
       "      <th>0</th>\n",
       "      <td>1070968</td>\n",
       "      <td>Ultimate Investment Banking Course</td>\n",
       "      <td>https://www.udemy.com/ultimate-investment-bank...</td>\n",
       "      <td>True</td>\n",
       "      <td>200</td>\n",
       "      <td>2147</td>\n",
       "      <td>23</td>\n",
       "      <td>51</td>\n",
       "      <td>All Levels</td>\n",
       "      <td>1.5</td>\n",
       "      <td>2017-01-18T20:58:58Z</td>\n",
       "      <td>Business Finance</td>\n",
       "    </tr>\n",
       "    <tr>\n",
       "      <th>1</th>\n",
       "      <td>1113822</td>\n",
       "      <td>Complete GST Course &amp; Certification - Grow You...</td>\n",
       "      <td>https://www.udemy.com/goods-and-services-tax/</td>\n",
       "      <td>True</td>\n",
       "      <td>75</td>\n",
       "      <td>2792</td>\n",
       "      <td>923</td>\n",
       "      <td>274</td>\n",
       "      <td>All Levels</td>\n",
       "      <td>39.0</td>\n",
       "      <td>2017-03-09T16:34:20Z</td>\n",
       "      <td>Business Finance</td>\n",
       "    </tr>\n",
       "    <tr>\n",
       "      <th>2</th>\n",
       "      <td>1006314</td>\n",
       "      <td>Financial Modeling for Business Analysts and C...</td>\n",
       "      <td>https://www.udemy.com/financial-modeling-for-b...</td>\n",
       "      <td>True</td>\n",
       "      <td>45</td>\n",
       "      <td>2174</td>\n",
       "      <td>74</td>\n",
       "      <td>51</td>\n",
       "      <td>Intermediate Level</td>\n",
       "      <td>2.5</td>\n",
       "      <td>2016-12-19T19:26:30Z</td>\n",
       "      <td>Business Finance</td>\n",
       "    </tr>\n",
       "  </tbody>\n",
       "</table>\n",
       "</div>"
      ],
      "text/plain": [
       "   course_id                                       course_title  \\\n",
       "0    1070968                 Ultimate Investment Banking Course   \n",
       "1    1113822  Complete GST Course & Certification - Grow You...   \n",
       "2    1006314  Financial Modeling for Business Analysts and C...   \n",
       "\n",
       "                                                 url  is_paid  price  \\\n",
       "0  https://www.udemy.com/ultimate-investment-bank...     True    200   \n",
       "1      https://www.udemy.com/goods-and-services-tax/     True     75   \n",
       "2  https://www.udemy.com/financial-modeling-for-b...     True     45   \n",
       "\n",
       "   num_subscribers  num_reviews  num_lectures               level  \\\n",
       "0             2147           23            51          All Levels   \n",
       "1             2792          923           274          All Levels   \n",
       "2             2174           74            51  Intermediate Level   \n",
       "\n",
       "   content_duration   published_timestamp           subject  \n",
       "0               1.5  2017-01-18T20:58:58Z  Business Finance  \n",
       "1              39.0  2017-03-09T16:34:20Z  Business Finance  \n",
       "2               2.5  2016-12-19T19:26:30Z  Business Finance  "
      ]
     },
     "execution_count": 4,
     "metadata": {},
     "output_type": "execute_result"
    }
   ],
   "source": [
    "df = pd.read_csv('udemy_courses.csv')\n",
    "df.head(3)"
   ]
  },
  {
   "cell_type": "code",
   "execution_count": 5,
   "id": "81a28a32-29b5-42f9-b52e-b806e15359c2",
   "metadata": {},
   "outputs": [
    {
     "data": {
      "text/plain": [
       "(3678, 12)"
      ]
     },
     "execution_count": 5,
     "metadata": {},
     "output_type": "execute_result"
    }
   ],
   "source": [
    "df.shape"
   ]
  },
  {
   "cell_type": "code",
   "execution_count": 7,
   "id": "f005e804-e28f-4969-b92c-051b65948d24",
   "metadata": {},
   "outputs": [
    {
     "data": {
      "text/html": [
       "<div>\n",
       "<style scoped>\n",
       "    .dataframe tbody tr th:only-of-type {\n",
       "        vertical-align: middle;\n",
       "    }\n",
       "\n",
       "    .dataframe tbody tr th {\n",
       "        vertical-align: top;\n",
       "    }\n",
       "\n",
       "    .dataframe thead th {\n",
       "        text-align: right;\n",
       "    }\n",
       "</style>\n",
       "<table border=\"1\" class=\"dataframe\">\n",
       "  <thead>\n",
       "    <tr style=\"text-align: right;\">\n",
       "      <th></th>\n",
       "      <th>course_id</th>\n",
       "      <th>price</th>\n",
       "      <th>num_subscribers</th>\n",
       "      <th>num_reviews</th>\n",
       "      <th>num_lectures</th>\n",
       "      <th>content_duration</th>\n",
       "    </tr>\n",
       "  </thead>\n",
       "  <tbody>\n",
       "    <tr>\n",
       "      <th>count</th>\n",
       "      <td>3.678000e+03</td>\n",
       "      <td>3678.000000</td>\n",
       "      <td>3678.000000</td>\n",
       "      <td>3678.000000</td>\n",
       "      <td>3678.000000</td>\n",
       "      <td>3678.000000</td>\n",
       "    </tr>\n",
       "    <tr>\n",
       "      <th>mean</th>\n",
       "      <td>6.759720e+05</td>\n",
       "      <td>66.049483</td>\n",
       "      <td>3197.150625</td>\n",
       "      <td>156.259108</td>\n",
       "      <td>40.108755</td>\n",
       "      <td>4.094517</td>\n",
       "    </tr>\n",
       "    <tr>\n",
       "      <th>std</th>\n",
       "      <td>3.432732e+05</td>\n",
       "      <td>61.005755</td>\n",
       "      <td>9504.117010</td>\n",
       "      <td>935.452044</td>\n",
       "      <td>50.383346</td>\n",
       "      <td>6.053840</td>\n",
       "    </tr>\n",
       "    <tr>\n",
       "      <th>min</th>\n",
       "      <td>8.324000e+03</td>\n",
       "      <td>0.000000</td>\n",
       "      <td>0.000000</td>\n",
       "      <td>0.000000</td>\n",
       "      <td>0.000000</td>\n",
       "      <td>0.000000</td>\n",
       "    </tr>\n",
       "    <tr>\n",
       "      <th>25%</th>\n",
       "      <td>4.076925e+05</td>\n",
       "      <td>20.000000</td>\n",
       "      <td>111.000000</td>\n",
       "      <td>4.000000</td>\n",
       "      <td>15.000000</td>\n",
       "      <td>1.000000</td>\n",
       "    </tr>\n",
       "    <tr>\n",
       "      <th>50%</th>\n",
       "      <td>6.879170e+05</td>\n",
       "      <td>45.000000</td>\n",
       "      <td>911.500000</td>\n",
       "      <td>18.000000</td>\n",
       "      <td>25.000000</td>\n",
       "      <td>2.000000</td>\n",
       "    </tr>\n",
       "    <tr>\n",
       "      <th>75%</th>\n",
       "      <td>9.613555e+05</td>\n",
       "      <td>95.000000</td>\n",
       "      <td>2546.000000</td>\n",
       "      <td>67.000000</td>\n",
       "      <td>45.750000</td>\n",
       "      <td>4.500000</td>\n",
       "    </tr>\n",
       "    <tr>\n",
       "      <th>max</th>\n",
       "      <td>1.282064e+06</td>\n",
       "      <td>200.000000</td>\n",
       "      <td>268923.000000</td>\n",
       "      <td>27445.000000</td>\n",
       "      <td>779.000000</td>\n",
       "      <td>78.500000</td>\n",
       "    </tr>\n",
       "  </tbody>\n",
       "</table>\n",
       "</div>"
      ],
      "text/plain": [
       "          course_id        price  num_subscribers   num_reviews  num_lectures  \\\n",
       "count  3.678000e+03  3678.000000      3678.000000   3678.000000   3678.000000   \n",
       "mean   6.759720e+05    66.049483      3197.150625    156.259108     40.108755   \n",
       "std    3.432732e+05    61.005755      9504.117010    935.452044     50.383346   \n",
       "min    8.324000e+03     0.000000         0.000000      0.000000      0.000000   \n",
       "25%    4.076925e+05    20.000000       111.000000      4.000000     15.000000   \n",
       "50%    6.879170e+05    45.000000       911.500000     18.000000     25.000000   \n",
       "75%    9.613555e+05    95.000000      2546.000000     67.000000     45.750000   \n",
       "max    1.282064e+06   200.000000    268923.000000  27445.000000    779.000000   \n",
       "\n",
       "       content_duration  \n",
       "count       3678.000000  \n",
       "mean           4.094517  \n",
       "std            6.053840  \n",
       "min            0.000000  \n",
       "25%            1.000000  \n",
       "50%            2.000000  \n",
       "75%            4.500000  \n",
       "max           78.500000  "
      ]
     },
     "execution_count": 7,
     "metadata": {},
     "output_type": "execute_result"
    }
   ],
   "source": [
    "df.describe()"
   ]
  },
  {
   "cell_type": "code",
   "execution_count": 8,
   "id": "92939b24-e412-48df-be1d-039a5bdb3377",
   "metadata": {},
   "outputs": [
    {
     "data": {
      "text/plain": [
       "course_id                int64\n",
       "course_title            object\n",
       "url                     object\n",
       "is_paid                   bool\n",
       "price                    int64\n",
       "num_subscribers          int64\n",
       "num_reviews              int64\n",
       "num_lectures             int64\n",
       "level                   object\n",
       "content_duration       float64\n",
       "published_timestamp     object\n",
       "subject                 object\n",
       "dtype: object"
      ]
     },
     "execution_count": 8,
     "metadata": {},
     "output_type": "execute_result"
    }
   ],
   "source": [
    "df.dtypes"
   ]
  },
  {
   "cell_type": "markdown",
   "id": "19d550a6-6f55-4e69-8346-bd985e680f2b",
   "metadata": {},
   "source": [
    "# Courses vs Subjects"
   ]
  },
  {
   "cell_type": "code",
   "execution_count": 9,
   "id": "231a4e68-3712-41dc-87c9-22f313425eae",
   "metadata": {},
   "outputs": [
    {
     "data": {
      "text/plain": [
       "Web Development        1200\n",
       "Business Finance       1195\n",
       "Musical Instruments     680\n",
       "Graphic Design          603\n",
       "Name: subject, dtype: int64"
      ]
     },
     "execution_count": 9,
     "metadata": {},
     "output_type": "execute_result"
    }
   ],
   "source": [
    "C_count = df.subject.value_counts()\n",
    "C_count"
   ]
  },
  {
   "cell_type": "code",
   "execution_count": 11,
   "id": "0663eb15-2d9b-40a7-b55f-00742a7da3a5",
   "metadata": {},
   "outputs": [
    {
     "data": {
      "text/plain": [
       "<Axes: title={'center': 'Courses Vs Subjects'}, xlabel='Subjects', ylabel='No. of courses'>"
      ]
     },
     "execution_count": 11,
     "metadata": {},
     "output_type": "execute_result"
    },
    {
     "data": {
      "image/png": "[encoded data removed]",
      "text/plain": [
       "<Figure size 640x480 with 1 Axes>"
      ]
     },
     "metadata": {},
     "output_type": "display_data"
    }
   ],
   "source": [
    "C_count.plot(kind='bar', title='Courses Vs Subjects', xlabel='Subjects', ylabel='No. of courses')"
   ]
  },
  {
   "cell_type": "markdown",
   "id": "2500d279-8d3c-4651-b06f-140fc79c2077",
   "metadata": {},
   "source": [
    "Clearly, Web Dev. and Business Finance are the most popular subjects on Udemy."
   ]
  },
  {
   "cell_type": "markdown",
   "id": "d9cd2a9f-3569-4638-a8d8-0e9e0a1d0dae",
   "metadata": {},
   "source": [
    "# No. of free courses"
   ]
  },
  {
   "cell_type": "code",
   "execution_count": 22,
   "id": "ca66f961-465d-49e6-9510-63f0604e9f78",
   "metadata": {},
   "outputs": [
    {
     "data": {
      "text/plain": [
       "(310, 12)"
      ]
     },
     "execution_count": 22,
     "metadata": {},
     "output_type": "execute_result"
    }
   ],
   "source": [
    "df1 = df[df.is_paid==False]\n",
    "df1.shape"
   ]
  },
  {
   "cell_type": "raw",
   "id": "77a1e451-7c32-45d5-bea8-292513b12a90",
   "metadata": {},
   "source": [
    "There are 310 Free courses available on Udemy out of total 3678 courses."
   ]
  },
  {
   "cell_type": "markdown",
   "id": "9ff85363-4864-40a2-8b9d-14972ee77824",
   "metadata": {},
   "source": [
    "# Least selling courses : Top 7"
   ]
  },
  {
   "cell_type": "code",
   "execution_count": 24,
   "id": "33e122b2-e879-45cc-8475-70f898f3ee03",
   "metadata": {},
   "outputs": [
    {
     "data": {
      "text/html": [
       "<div>\n",
       "<style scoped>\n",
       "    .dataframe tbody tr th:only-of-type {\n",
       "        vertical-align: middle;\n",
       "    }\n",
       "\n",
       "    .dataframe tbody tr th {\n",
       "        vertical-align: top;\n",
       "    }\n",
       "\n",
       "    .dataframe thead th {\n",
       "        text-align: right;\n",
       "    }\n",
       "</style>\n",
       "<table border=\"1\" class=\"dataframe\">\n",
       "  <thead>\n",
       "    <tr style=\"text-align: right;\">\n",
       "      <th></th>\n",
       "      <th>course_id</th>\n",
       "      <th>course_title</th>\n",
       "      <th>url</th>\n",
       "      <th>is_paid</th>\n",
       "      <th>price</th>\n",
       "      <th>num_subscribers</th>\n",
       "      <th>num_reviews</th>\n",
       "      <th>num_lectures</th>\n",
       "      <th>level</th>\n",
       "      <th>content_duration</th>\n",
       "      <th>published_timestamp</th>\n",
       "      <th>subject</th>\n",
       "    </tr>\n",
       "  </thead>\n",
       "  <tbody>\n",
       "    <tr>\n",
       "      <th>885</th>\n",
       "      <td>1032648</td>\n",
       "      <td>beginning accounting</td>\n",
       "      <td>https://www.udemy.com/beginning_accounting/</td>\n",
       "      <td>True</td>\n",
       "      <td>20</td>\n",
       "      <td>0</td>\n",
       "      <td>0</td>\n",
       "      <td>12</td>\n",
       "      <td>Intermediate Level</td>\n",
       "      <td>0.633333</td>\n",
       "      <td>2016-12-26T16:52:47Z</td>\n",
       "      <td>Business Finance</td>\n",
       "    </tr>\n",
       "    <tr>\n",
       "      <th>456</th>\n",
       "      <td>1247992</td>\n",
       "      <td>Introduction to Project Management for Finance...</td>\n",
       "      <td>https://www.udemy.com/introduction-to-project-...</td>\n",
       "      <td>True</td>\n",
       "      <td>50</td>\n",
       "      <td>0</td>\n",
       "      <td>0</td>\n",
       "      <td>9</td>\n",
       "      <td>Beginner Level</td>\n",
       "      <td>2.000000</td>\n",
       "      <td>2017-07-03T21:40:32Z</td>\n",
       "      <td>Business Finance</td>\n",
       "    </tr>\n",
       "    <tr>\n",
       "      <th>457</th>\n",
       "      <td>1251582</td>\n",
       "      <td>Best Practices in Corporate Budgeting</td>\n",
       "      <td>https://www.udemy.com/best-practices-corporate...</td>\n",
       "      <td>True</td>\n",
       "      <td>50</td>\n",
       "      <td>0</td>\n",
       "      <td>0</td>\n",
       "      <td>9</td>\n",
       "      <td>Intermediate Level</td>\n",
       "      <td>2.000000</td>\n",
       "      <td>2017-06-29T22:01:56Z</td>\n",
       "      <td>Business Finance</td>\n",
       "    </tr>\n",
       "    <tr>\n",
       "      <th>458</th>\n",
       "      <td>1258666</td>\n",
       "      <td>Financial Statement Auditing Cycles</td>\n",
       "      <td>https://www.udemy.com/financial-statement-audi...</td>\n",
       "      <td>True</td>\n",
       "      <td>50</td>\n",
       "      <td>0</td>\n",
       "      <td>0</td>\n",
       "      <td>9</td>\n",
       "      <td>Intermediate Level</td>\n",
       "      <td>2.000000</td>\n",
       "      <td>2017-06-29T23:20:10Z</td>\n",
       "      <td>Business Finance</td>\n",
       "    </tr>\n",
       "    <tr>\n",
       "      <th>459</th>\n",
       "      <td>1168172</td>\n",
       "      <td>Case studies on credit appraisal for bankers</td>\n",
       "      <td>https://www.udemy.com/case-studies-on-credit-a...</td>\n",
       "      <td>True</td>\n",
       "      <td>20</td>\n",
       "      <td>0</td>\n",
       "      <td>0</td>\n",
       "      <td>15</td>\n",
       "      <td>Beginner Level</td>\n",
       "      <td>3.500000</td>\n",
       "      <td>2017-05-01T20:16:26Z</td>\n",
       "      <td>Business Finance</td>\n",
       "    </tr>\n",
       "    <tr>\n",
       "      <th>460</th>\n",
       "      <td>1233314</td>\n",
       "      <td>Building a Balanced Scorecard</td>\n",
       "      <td>https://www.udemy.com/building-balanced-scorec...</td>\n",
       "      <td>True</td>\n",
       "      <td>50</td>\n",
       "      <td>0</td>\n",
       "      <td>0</td>\n",
       "      <td>11</td>\n",
       "      <td>Intermediate Level</td>\n",
       "      <td>2.000000</td>\n",
       "      <td>2017-07-03T21:38:22Z</td>\n",
       "      <td>Business Finance</td>\n",
       "    </tr>\n",
       "    <tr>\n",
       "      <th>461</th>\n",
       "      <td>1276182</td>\n",
       "      <td>Options Trading Foundation: Your journey to co...</td>\n",
       "      <td>https://www.udemy.com/option-trading-foundatio...</td>\n",
       "      <td>True</td>\n",
       "      <td>95</td>\n",
       "      <td>0</td>\n",
       "      <td>0</td>\n",
       "      <td>5</td>\n",
       "      <td>Intermediate Level</td>\n",
       "      <td>1.000000</td>\n",
       "      <td>2017-07-05T04:41:54Z</td>\n",
       "      <td>Business Finance</td>\n",
       "    </tr>\n",
       "  </tbody>\n",
       "</table>\n",
       "</div>"
      ],
      "text/plain": [
       "     course_id                                       course_title  \\\n",
       "885    1032648                               beginning accounting   \n",
       "456    1247992  Introduction to Project Management for Finance...   \n",
       "457    1251582              Best Practices in Corporate Budgeting   \n",
       "458    1258666                Financial Statement Auditing Cycles   \n",
       "459    1168172       Case studies on credit appraisal for bankers   \n",
       "460    1233314                      Building a Balanced Scorecard   \n",
       "461    1276182  Options Trading Foundation: Your journey to co...   \n",
       "\n",
       "                                                   url  is_paid  price  \\\n",
       "885        https://www.udemy.com/beginning_accounting/     True     20   \n",
       "456  https://www.udemy.com/introduction-to-project-...     True     50   \n",
       "457  https://www.udemy.com/best-practices-corporate...     True     50   \n",
       "458  https://www.udemy.com/financial-statement-audi...     True     50   \n",
       "459  https://www.udemy.com/case-studies-on-credit-a...     True     20   \n",
       "460  https://www.udemy.com/building-balanced-scorec...     True     50   \n",
       "461  https://www.udemy.com/option-trading-foundatio...     True     95   \n",
       "\n",
       "     num_subscribers  num_reviews  num_lectures               level  \\\n",
       "885                0            0            12  Intermediate Level   \n",
       "456                0            0             9      Beginner Level   \n",
       "457                0            0             9  Intermediate Level   \n",
       "458                0            0             9  Intermediate Level   \n",
       "459                0            0            15      Beginner Level   \n",
       "460                0            0            11  Intermediate Level   \n",
       "461                0            0             5  Intermediate Level   \n",
       "\n",
       "     content_duration   published_timestamp           subject  \n",
       "885          0.633333  2016-12-26T16:52:47Z  Business Finance  \n",
       "456          2.000000  2017-07-03T21:40:32Z  Business Finance  \n",
       "457          2.000000  2017-06-29T22:01:56Z  Business Finance  \n",
       "458          2.000000  2017-06-29T23:20:10Z  Business Finance  \n",
       "459          3.500000  2017-05-01T20:16:26Z  Business Finance  \n",
       "460          2.000000  2017-07-03T21:38:22Z  Business Finance  \n",
       "461          1.000000  2017-07-05T04:41:54Z  Business Finance  "
      ]
     },
     "execution_count": 24,
     "metadata": {},
     "output_type": "execute_result"
    }
   ],
   "source": [
    "df.sort_values(by='num_subscribers', ascending=True).head(7)"
   ]
  },
  {
   "cell_type": "markdown",
   "id": "83ce9f0e-2af5-40cf-b749-27248dd707de",
   "metadata": {},
   "source": [
    "# Max. no. of Subscribers : By Level of Course"
   ]
  },
  {
   "cell_type": "code",
   "execution_count": 30,
   "id": "890e0a67-d481-49a4-b984-b656b62fc60a",
   "metadata": {},
   "outputs": [
    {
     "data": {
      "text/plain": [
       "level\n",
       "All Levels            6915076\n",
       "Beginner Level        4051843\n",
       "Expert Level            50196\n",
       "Intermediate Level     742005\n",
       "Name: num_subscribers, dtype: int64"
      ]
     },
     "execution_count": 30,
     "metadata": {},
     "output_type": "execute_result"
    }
   ],
   "source": [
    "sub_vs_level = df.groupby('level')['num_subscribers'].sum()\n",
    "sub_vs_level"
   ]
  },
  {
   "cell_type": "code",
   "execution_count": 36,
   "id": "0c0b61a1-52a1-4666-a51d-3ef4b9093336",
   "metadata": {},
   "outputs": [
    {
     "data": {
      "text/plain": [
       "<Axes: ylabel='num_subscribers'>"
      ]
     },
     "execution_count": 36,
     "metadata": {},
     "output_type": "execute_result"
    },
    {
     "data": {
      "image/png": "[encoded data removed]",
      "text/plain": [
       "<Figure size 640x480 with 1 Axes>"
      ]
     },
     "metadata": {},
     "output_type": "display_data"
    }
   ],
   "source": [
    "sub_vs_level.plot(kind='pie')"
   ]
  },
  {
   "cell_type": "code",
   "execution_count": 32,
   "id": "1740c01f-ad9a-4fef-8e95-ae70394a8d3c",
   "metadata": {},
   "outputs": [
    {
     "data": {
      "text/plain": [
       "level\n",
       "All Levels            268923\n",
       "Beginner Level        161029\n",
       "Expert Level            5172\n",
       "Intermediate Level     29167\n",
       "Name: num_subscribers, dtype: int64"
      ]
     },
     "execution_count": 32,
     "metadata": {},
     "output_type": "execute_result"
    }
   ],
   "source": [
    "max_sub_each_level = df.groupby('level')['num_subscribers'].max()\n",
    "max_sub_each_level"
   ]
  },
  {
   "cell_type": "code",
   "execution_count": 35,
   "id": "3db9deba-efc2-4b5b-aa98-5b9555147a99",
   "metadata": {},
   "outputs": [
    {
     "data": {
      "text/plain": [
       "<Axes: xlabel='level'>"
      ]
     },
     "execution_count": 35,
     "metadata": {},
     "output_type": "execute_result"
    },
    {
     "data": {
      "image/png": "[encoded data removed]",
      "text/plain": [
       "<Figure size 640x480 with 1 Axes>"
      ]
     },
     "metadata": {},
     "output_type": "display_data"
    }
   ],
   "source": [
    "max_sub_each_level.plot.area()"
   ]
  },
  {
   "cell_type": "markdown",
   "id": "58dfd6fa-b676-4c44-ab8a-eb160bb41709",
   "metadata": {},
   "source": [
    "# Thanks"
   ]
  }
 ],
 "metadata": {
  "kernelspec": {
   "display_name": "Python 3 (ipykernel)",
   "language": "python",
   "name": "python3"
  },
  "language_info": {
   "codemirror_mode": {
    "name": "ipython",
    "version": 3
   },
   "file_extension": ".py",
   "mimetype": "text/x-python",
   "name": "python",
   "nbconvert_exporter": "python",
   "pygments_lexer": "ipython3",
   "version": "3.11.7"
  }
 },
 "nbformat": 4,
 "nbformat_minor": 5
}
